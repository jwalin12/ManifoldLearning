{
 "cells": [
  {
   "cell_type": "code",
   "execution_count": 3,
   "metadata": {},
   "outputs": [],
   "source": [
    "%matplotlib inline\n",
    "import numpy as np\n",
    "import matplotlib.pyplot as plt\n",
    "from tensorflow.keras.datasets import mnist\n",
    "from scipy.linalg import lstsq\n",
    "import heapdict"
   ]
  },
  {
   "cell_type": "markdown",
   "metadata": {},
   "source": [
    "Locally Linear Embedding, or LLE, is a non-linear dimensionality reduction technique that computes low dimensional, neighborhood preserving embeddings of data. It is attempts to discover non-linear relationships at data. It is made up of 3 steps:\n",
    "1. Compute the closest neighbors of data\n",
    "2. Compute the representation weights of the data using it's k closest neighbors\n",
    "3. Compute the embedding of the representation in a lower dimension."
   ]
  },
  {
   "cell_type": "markdown",
   "metadata": {},
   "source": [
    "I decided to compute the LLE of the 1's in the MNIST dataset. We find the closest 20 neighbors by euclidian distance and a priority queue."
   ]
  },
  {
   "cell_type": "code",
   "execution_count": 4,
   "metadata": {},
   "outputs": [],
   "source": [
    "def get_dist(x, y):\n",
    "    return np.linalg.norm(np.array(x) - np.array(y))\n",
    "    \n",
    "def get_k_nearest(dataset,k):\n",
    "    output = []\n",
    "    \n",
    "    for i in range(len(dataset)):\n",
    "        h = heapdict.heapdict()\n",
    "        for j in range(len(dataset)):\n",
    "            if(i!=j):\n",
    "                h[j] = get_dist(dataset[i], dataset[j])\n",
    "        closest = []\n",
    "        for _ in range(k):\n",
    "            closest.append(h.popitem()[0])\n",
    "        output.append(closest)\n",
    "    return output\n",
    "            \n",
    "def filter_1(x, y):\n",
    "    keep = (y == 1)\n",
    "    x, y = x[keep], y[keep]\n",
    "    y = y == 1\n",
    "    return x,y\n",
    "\n",
    "            \n",
    "    "
   ]
  },
  {
   "cell_type": "code",
   "execution_count": 5,
   "metadata": {},
   "outputs": [
    {
     "name": "stdout",
     "output_type": "stream",
     "text": [
      "(671, 28, 28)\n"
     ]
    }
   ],
   "source": [
    "(X_train, Y_train), (X_test, Y_test) = mnist.load_data()\n",
    "\n",
    "x_ones, y_ones = filter_1(X_train[:6000], Y_train[:6000])\n",
    "k = 20\n",
    "dataset = x_ones\n",
    "print(np.shape(dataset))\n",
    "\n",
    "nearest_neighbors = get_k_nearest(dataset, k)"
   ]
  },
  {
   "cell_type": "markdown",
   "metadata": {},
   "source": [
    "We then calculate the weights of each datapoint based on its neighbors. We do this by minimizing the mean squared error of the representation of X with the actual value of X. Each row of the weight matrix W must sum to 1. The problem boils down to minimizing a constrained least squares problem, which we already know how to do."
   ]
  },
  {
   "cell_type": "code",
   "execution_count": 6,
   "metadata": {},
   "outputs": [],
   "source": [
    "def get_weight_matrix(nearest_neighbors, dataset,i):\n",
    "    A =[]\n",
    "    ind = nearest_neighbors[i]\n",
    "    flattened = dataset[i].flatten()\n",
    "    nearest_set = set(nearest_neighbors[i])\n",
    "    for j in nearest_set:\n",
    "        A.append(dataset[j].flatten() - flattened)\n",
    "        \n",
    "    C = np.matmul(A, np.array(A).T)\n",
    "    W_i =np.linalg.solve(C, np.ones(len(C)).T)\n",
    "    full_weights = np.zeros(len(dataset))\n",
    "    W_i = W_i/np.sum(W_i)\n",
    "    full_weights[ind] = W_i\n",
    "\n",
    "    \n",
    "    return full_weights\n",
    "    \n",
    "    \n",
    "    \n",
    "    \n",
    " \n",
    " \n",
    " \n",
    "        \n",
    "        \n"
   ]
  },
  {
   "cell_type": "code",
   "execution_count": 7,
   "metadata": {
    "scrolled": true
   },
   "outputs": [
    {
     "name": "stdout",
     "output_type": "stream",
     "text": [
      "(671, 671)\n"
     ]
    }
   ],
   "source": [
    "indexes = np.arange(0, len(dataset))\n",
    "\n",
    "W = []\n",
    "\n",
    "for i in indexes:\n",
    "    W.append(get_weight_matrix(nearest_neighbors, dataset, i))\n",
    "print(np.shape(W))"
   ]
  },
  {
   "cell_type": "markdown",
   "metadata": {},
   "source": [
    "Now that we have the weight matrix W, we have to calculate the embedding in a lower dimension. I chose to calculate the embedding in 2 dimensions for ease of visualization. The embedding cost function is also means squared error, although in this case it is minimizing the difference between Y(the lower dimensional represenation of X) with the other lower dimensional representations. In order to minimize this function, we can solve a sparse eigenvalue problem.  The bottom 1 to d+1 vectors of an NxN sparse matrix correspond to an orthogonal set of coordinates. We sparsify W by subtracting it from I and multiplying the resulting matrix by its conjugate transpose. "
   ]
  },
  {
   "cell_type": "code",
   "execution_count": 8,
   "metadata": {},
   "outputs": [],
   "source": [
    "M = np.matmul(np.identity(len(W)) - W, np.conj(np.identity(len(W))- W).T)"
   ]
  },
  {
   "cell_type": "code",
   "execution_count": 9,
   "metadata": {},
   "outputs": [
    {
     "name": "stdout",
     "output_type": "stream",
     "text": [
      "(671, 2)\n"
     ]
    }
   ],
   "source": [
    "d = 2\n",
    "Y = np.linalg.eig(M)[1][1:d+1].T\n",
    "print(np.shape(Y))\n"
   ]
  },
  {
   "cell_type": "markdown",
   "metadata": {},
   "source": [
    "Let's visualize the embeddings we got!"
   ]
  },
  {
   "cell_type": "code",
   "execution_count": 10,
   "metadata": {},
   "outputs": [
    {
     "data": {
      "text/plain": [
       "<matplotlib.collections.PathCollection at 0x145cfcfa0>"
      ]
     },
     "execution_count": 10,
     "metadata": {},
     "output_type": "execute_result"
    },
    {
     "data": {
      "image/png": "[encoded data removed]",
      "text/plain": [
       "<Figure size 432x288 with 1 Axes>"
      ]
     },
     "metadata": {
      "needs_background": "light"
     },
     "output_type": "display_data"
    }
   ],
   "source": [
    "plt.scatter(Y[:,0],Y[:,1])"
   ]
  },
  {
   "cell_type": "markdown",
   "metadata": {},
   "source": [
    "As you can see, neighborhood relationships tend to be preserved by LLE!"
   ]
  },
  {
   "cell_type": "code",
   "execution_count": null,
   "metadata": {},
   "outputs": [],
   "source": []
  },
  {
   "cell_type": "code",
   "execution_count": null,
   "metadata": {},
   "outputs": [],
   "source": []
  }
 ],
 "metadata": {
  "kernelspec": {
   "display_name": "Python 3",
   "language": "python",
   "name": "python3"
  },
  "language_info": {
   "codemirror_mode": {
    "name": "ipython",
    "version": 3
   },
   "file_extension": ".py",
   "mimetype": "text/x-python",
   "name": "python",
   "nbconvert_exporter": "python",
   "pygments_lexer": "ipython3",
   "version": "3.8.3"
  }
 },
 "nbformat": 4,
 "nbformat_minor": 4
}
